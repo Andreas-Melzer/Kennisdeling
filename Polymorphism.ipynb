{
  "nbformat": 4,
  "nbformat_minor": 0,
  "metadata": {
    "colab": {
      "provenance": []
    },
    "kernelspec": {
      "name": "python3",
      "display_name": "Python 3"
    },
    "language_info": {
      "name": "python"
    }
  },
  "cells": [
    {
      "cell_type": "code",
      "source": [
        "import pandas as pd\n",
        "import numpy as np\n",
        "import abc\n",
        "from abc import ABC,abstractmethod\n",
        "from google.colab import output"
      ],
      "metadata": {
        "id": "ZvwrjUYZN75C"
      },
      "execution_count": 2,
      "outputs": []
    },
    {
      "cell_type": "markdown",
      "source": [
        "# Polymorphism"
      ],
      "metadata": {
        "id": "w_BiVOX-QRhq"
      }
    },
    {
      "cell_type": "markdown",
      "source": [
        "Polymorphism is a core concept in Object-Oriented Programming (OOP) that allows you to use a single interface to represent different types of objects. This helps make code more flexible and adaptable to different situations. In Python, polymorphism can take various forms, such as:\n",
        "\n",
        "* **Interfaces**: defining a common interface that multiple classes implement\n",
        "* **Overloading**: using the same method name with different parameters to handle different input types\n",
        "* **Inheritance**: creating subclasses that inherit attributes and methods from their parent classes, while adding their own unique behavior\n",
        "* **Duck Typing**\n",
        "\n",
        "Overall, polymorphism is a powerful tool in OOP that can help make your code more modular and reusable. By using a single interface to represent multiple types of objects, you can create more flexible and adaptable code that is easier to maintain and extend."
      ],
      "metadata": {
        "id": "vks-lHBxLqJZ"
      }
    },
    {
      "cell_type": "markdown",
      "source": [
        "## Duck typing\n"
      ],
      "metadata": {
        "id": "-QgdfP-kQWDw"
      }
    },
    {
      "cell_type": "markdown",
      "source": [
        "In Python, duck typing is a fundamental concept that allows for more dynamic and flexible programming. It means that you don't need to declare the type of a variable or function parameter in advance, as long as the object behaves like the expected type. The shared functionality between objects is defined **implicitly based on their behavior, rather than explicitly through a common interface.**\n",
        "\n",
        "This can make code more concise and easier to read, since you don't need to specify the type of every object or parameter in advance. However, it can also lead to **unexpected errors**  if objects don't behave as expected, since there is no explicit interface or contract that defines their expected behavior."
      ],
      "metadata": {
        "id": "d5O_qfU5QjI6"
      }
    },
    {
      "cell_type": "code",
      "source": [
        "class Duck:\n",
        "    def quack(self):\n",
        "        return \"Quack!\"\n",
        "\n",
        "class WhiteDuck:\n",
        "    def quack(self):\n",
        "        return \"Quaaack!\"\n",
        "\n",
        "class RubberDuck:\n",
        "    def quack(self):\n",
        "        return \"Squeak!\"\n",
        "\n",
        "def make_ducks_quack(ducks):\n",
        "    for duck in ducks:\n",
        "        print(duck.quack())\n",
        "\n",
        "ducks = [Duck(), WhiteDuck(), RubberDuck()]\n",
        "make_ducks_quack(ducks)"
      ],
      "metadata": {
        "colab": {
          "base_uri": "https://localhost:8080/"
        },
        "id": "vjdZbyK_Q4-g",
        "outputId": "30438c97-5fae-4951-f76c-ab7b7df204ac"
      },
      "execution_count": 6,
      "outputs": [
        {
          "output_type": "stream",
          "name": "stdout",
          "text": [
            "Quack!\n",
            "Quaaack!\n",
            "Squeak!\n"
          ]
        }
      ]
    },
    {
      "cell_type": "markdown",
      "source": [
        "<img src=\"https://i.ibb.co/mH5YWmC/ducktyping.jpg\">"
      ],
      "metadata": {
        "id": "QhUue38uVcU1"
      }
    },
    {
      "cell_type": "code",
      "source": [
        "class Goose:\n",
        "    def honk(self):\n",
        "        return \"Honk!\"\n",
        "\n",
        "ducks.append(Goose())\n",
        "make_ducks_quack(ducks)"
      ],
      "metadata": {
        "colab": {
          "base_uri": "https://localhost:8080/",
          "height": 393
        },
        "id": "wg0QgNq3RWpI",
        "outputId": "0c86921a-34b4-4b75-cb59-04a156267868"
      },
      "execution_count": 46,
      "outputs": [
        {
          "output_type": "stream",
          "name": "stdout",
          "text": [
            "Quack!\n",
            "Quaaack!\n",
            "Squeak!\n"
          ]
        },
        {
          "output_type": "error",
          "ename": "AttributeError",
          "evalue": "ignored",
          "traceback": [
            "\u001b[0;31m---------------------------------------------------------------------------\u001b[0m",
            "\u001b[0;31mAttributeError\u001b[0m                            Traceback (most recent call last)",
            "\u001b[0;32m<ipython-input-46-a9cc5c8056ea>\u001b[0m in \u001b[0;36m<module>\u001b[0;34m\u001b[0m\n\u001b[1;32m      4\u001b[0m \u001b[0;34m\u001b[0m\u001b[0m\n\u001b[1;32m      5\u001b[0m \u001b[0mducks\u001b[0m\u001b[0;34m.\u001b[0m\u001b[0mappend\u001b[0m\u001b[0;34m(\u001b[0m\u001b[0mGoose\u001b[0m\u001b[0;34m(\u001b[0m\u001b[0;34m)\u001b[0m\u001b[0;34m)\u001b[0m\u001b[0;34m\u001b[0m\u001b[0;34m\u001b[0m\u001b[0m\n\u001b[0;32m----> 6\u001b[0;31m \u001b[0mmake_ducks_quack\u001b[0m\u001b[0;34m(\u001b[0m\u001b[0mducks\u001b[0m\u001b[0;34m)\u001b[0m\u001b[0;34m\u001b[0m\u001b[0;34m\u001b[0m\u001b[0m\n\u001b[0m",
            "\u001b[0;32m<ipython-input-6-0021344c7025>\u001b[0m in \u001b[0;36mmake_ducks_quack\u001b[0;34m(ducks)\u001b[0m\n\u001b[1;32m     13\u001b[0m \u001b[0;32mdef\u001b[0m \u001b[0mmake_ducks_quack\u001b[0m\u001b[0;34m(\u001b[0m\u001b[0mducks\u001b[0m\u001b[0;34m)\u001b[0m\u001b[0;34m:\u001b[0m\u001b[0;34m\u001b[0m\u001b[0;34m\u001b[0m\u001b[0m\n\u001b[1;32m     14\u001b[0m     \u001b[0;32mfor\u001b[0m \u001b[0mduck\u001b[0m \u001b[0;32min\u001b[0m \u001b[0mducks\u001b[0m\u001b[0;34m:\u001b[0m\u001b[0;34m\u001b[0m\u001b[0;34m\u001b[0m\u001b[0m\n\u001b[0;32m---> 15\u001b[0;31m         \u001b[0mprint\u001b[0m\u001b[0;34m(\u001b[0m\u001b[0mduck\u001b[0m\u001b[0;34m.\u001b[0m\u001b[0mquack\u001b[0m\u001b[0;34m(\u001b[0m\u001b[0;34m)\u001b[0m\u001b[0;34m)\u001b[0m\u001b[0;34m\u001b[0m\u001b[0;34m\u001b[0m\u001b[0m\n\u001b[0m\u001b[1;32m     16\u001b[0m \u001b[0;34m\u001b[0m\u001b[0m\n\u001b[1;32m     17\u001b[0m \u001b[0mducks\u001b[0m \u001b[0;34m=\u001b[0m \u001b[0;34m[\u001b[0m\u001b[0mDuck\u001b[0m\u001b[0;34m(\u001b[0m\u001b[0;34m)\u001b[0m\u001b[0;34m,\u001b[0m \u001b[0mWhiteDuck\u001b[0m\u001b[0;34m(\u001b[0m\u001b[0;34m)\u001b[0m\u001b[0;34m,\u001b[0m \u001b[0mRubberDuck\u001b[0m\u001b[0;34m(\u001b[0m\u001b[0;34m)\u001b[0m\u001b[0;34m]\u001b[0m\u001b[0;34m\u001b[0m\u001b[0;34m\u001b[0m\u001b[0m\n",
            "\u001b[0;31mAttributeError\u001b[0m: 'Goose' object has no attribute 'quack'"
          ]
        }
      ]
    },
    {
      "cell_type": "markdown",
      "source": [
        "## Interfaces"
      ],
      "metadata": {
        "id": "_UlFQB3RVqX0"
      }
    },
    {
      "cell_type": "markdown",
      "source": [
        "In object-oriented programming, an interface is a contract that defines a common set of methods, properties, and other attributes that a group of related classes must implement. Interfaces allow you to define a common interface for a group of objects, making your code more modular and flexible. \n",
        "\n",
        "When **implementing** (inheriting) an interface in Python (whether using the abc module or the \"duck typing\" convention), there are three important requirements that must be met:\n",
        "\n",
        "1. Implement all methods defined in the interface. Failure to implement any of the required methods will result in a TypeError at runtime.\n",
        "\n",
        "2. Maintain the method signatures of the interface. This means that the method name, number of arguments, and argument types (if specified) must match exactly. \n",
        "\n",
        "3. Use the interface as a type hint. This helps to communicate to other developers that the object is expected to conform to the interface. Additionally, it allows Python to perform type checking at runtime to ensure that the object actually does conform to the interface. \n",
        "\n",
        "The example shown below demonstrates how to define an interface using the abc \n",
        "module in Python.\n",
        "\n",
        "---\n"
      ],
      "metadata": {
        "id": "xvVjKThZYBeT"
      }
    },
    {
      "cell_type": "code",
      "source": [
        "from abc import ABC, abstractmethod\n",
        "\n",
        "class IAnimal(ABC):\n",
        "    \"\"\"\n",
        "    An abstract base class that defines the interface for an animal object.\n",
        "    \"\"\"\n",
        "\n",
        "    @abstractmethod\n",
        "    def speak(self):\n",
        "        \"\"\"\n",
        "        Abstract method that defines how the animal makes a sound.\n",
        "        \"\"\"\n",
        "        pass\n",
        "\n",
        "    @abstractmethod\n",
        "    def eat(self, food):\n",
        "        \"\"\"\n",
        "        Abstract method that defines how the animal eats food.\n",
        "\n",
        "        :param food: the type of food the animal is eating\n",
        "        \"\"\"\n",
        "        pass"
      ],
      "metadata": {
        "id": "KaR1lLCmPGxq"
      },
      "execution_count": 3,
      "outputs": []
    },
    {
      "cell_type": "markdown",
      "source": [
        "Creating an interface using the **abc** module provides several advantages over duck typing, such as:\n",
        "\n",
        "* Enforcing classes that implement the interface to also implement all required methods\n",
        "* Making the expected behavior of classes more explicit and self-documenting\n",
        "* Catching errors early on in the development process, since any class that does not implement the required methods will raise a TypeError when instantiated\n",
        "* Improving the readability and maintainability of your code by creating a clear contract between the interface and the classes that implement it"
      ],
      "metadata": {
        "id": "EhXCxZVjXcqr"
      }
    },
    {
      "cell_type": "code",
      "source": [
        "\n",
        "class IFlyingObject(ABC):\n",
        "    \"\"\"\n",
        "    An interface that defines shared behavior for objects that can fly.\n",
        "    \"\"\"\n",
        "\n",
        "    @abstractmethod\n",
        "    def fly(self):\n",
        "        \"\"\"\n",
        "        Makes the object fly.\n",
        "\n",
        "        Args:\n",
        "            None\n",
        "\n",
        "        Returns:\n",
        "            None\n",
        "        \"\"\"\n",
        "        pass\n",
        "    \n",
        "    @abstractmethod\n",
        "    def land(self):\n",
        "        \"\"\"\n",
        "        Makes the object fly.\n",
        "\n",
        "        Args:\n",
        "            None\n",
        "\n",
        "        Returns:\n",
        "            None\n",
        "        \"\"\"\n",
        "        pass\n",
        "\n",
        "\n",
        "class Duck(IFlyingObject):\n",
        "  def __init__(self):\n",
        "    self._has_layed_egg:bool = False\n",
        "  \n",
        "  def fly(self):\n",
        "    print(\"The duck flaps it's wings and flies away\")\n",
        "  \n",
        "  def land(self):\n",
        "    print(\"The duck lands\")\n",
        "\n",
        "  def lay_egg(self):\n",
        "    if self._has_layed_egg:\n",
        "      print(\"The duck allready layed an egg you will have to wait until tomorrow\")\n",
        "    else:\n",
        "      print(\"The duck lays an egg\")\n",
        "      self._has_layed_egg = True\n",
        "\n",
        "class Airplane(IFlyingObject):\n",
        "  def __init__(self):\n",
        "    self._has_fuel:bool =True\n",
        "    \n",
        "  def fly(self):\n",
        "    if self._has_fuel:\n",
        "      print(\"The airplane starts it's engine and flies away\")\n",
        "      self._has_fuel = False\n",
        "    else:\n",
        "      print(\"The airplane is out of fuel and cannot fly\")\n"
      ],
      "metadata": {
        "id": "CicW1QteWle7"
      },
      "execution_count": 10,
      "outputs": []
    },
    {
      "cell_type": "markdown",
      "source": [
        "**Who can spot the error?**"
      ],
      "metadata": {
        "id": "LdruXl9oahV1"
      }
    },
    {
      "cell_type": "code",
      "source": [
        "duck = Duck()\n",
        "duck.fly()\n",
        "duck.land()\n",
        "duck.lay_egg()\n",
        "duck.lay_egg()"
      ],
      "metadata": {
        "colab": {
          "base_uri": "https://localhost:8080/"
        },
        "id": "2nRYQSEJf3wN",
        "outputId": "afe08380-966e-48cd-ad6b-16fad0c5c396"
      },
      "execution_count": 11,
      "outputs": [
        {
          "output_type": "stream",
          "name": "stdout",
          "text": [
            "The duck flaps it's wings and flies away\n",
            "The duck lands\n",
            "The duck lays an egg\n",
            "The duck allready layed an egg you will have to wait until tomorrow\n"
          ]
        }
      ]
    },
    {
      "cell_type": "code",
      "source": [
        "airplane = Airplane()"
      ],
      "metadata": {
        "colab": {
          "base_uri": "https://localhost:8080/",
          "height": 172
        },
        "id": "jcxbZm8Mhsl8",
        "outputId": "f15868cb-e198-4a5f-c107-f55c8b19ffe0"
      },
      "execution_count": 12,
      "outputs": [
        {
          "output_type": "error",
          "ename": "TypeError",
          "evalue": "ignored",
          "traceback": [
            "\u001b[0;31m---------------------------------------------------------------------------\u001b[0m",
            "\u001b[0;31mTypeError\u001b[0m                                 Traceback (most recent call last)",
            "\u001b[0;32m<ipython-input-12-e7927d9d550a>\u001b[0m in \u001b[0;36m<module>\u001b[0;34m\u001b[0m\n\u001b[0;32m----> 1\u001b[0;31m \u001b[0mairplane\u001b[0m \u001b[0;34m=\u001b[0m \u001b[0mAirplane\u001b[0m\u001b[0;34m(\u001b[0m\u001b[0;34m)\u001b[0m\u001b[0;34m\u001b[0m\u001b[0;34m\u001b[0m\u001b[0m\n\u001b[0m",
            "\u001b[0;31mTypeError\u001b[0m: Can't instantiate abstract class Airplane with abstract method land"
          ]
        }
      ]
    },
    {
      "cell_type": "markdown",
      "source": [
        "It seems we made an error here, we broke one of the rules.\n",
        "\n",
        "When defining a subclass that implements an interface, it's important to ensure that all required methods are implemented as specified by the interface. In Python, you can use the `abc` module to define abstract base classes that require certain methods to be implemented by any class that uses the interface. This can be very useful as it forces anyone who implements the interface to also implement all the necessary methods. If you try to create a subclass that doesn't implement all the required methods, Python will raise a TypeError indicating that the class does not provide an implementation for the missing method. For example, if you define an interface called IFlyingObject with methods `fly()` and `land()`, and then define a subclass called Airplane that implements `fly()` but not `land()`, Python will raise a TypeError indicating that Airplane does not provide an implementation for `land()`. By enforcing strict adherence to interfaces in this way, you can help ensure that objects behave as expected and promote code reuse and maintainability."
      ],
      "metadata": {
        "id": "LmsekCe7huer"
      }
    },
    {
      "cell_type": "code",
      "source": [
        "class Airplane(IFlyingObject):\n",
        "  def __init__(self):\n",
        "    self._has_fuel:bool =True\n",
        "    \n",
        "  def fly(self):\n",
        "    if self._has_fuel:\n",
        "      print(\"The airplane starts it's engines and flies away\")\n",
        "      self._has_fuel = False\n",
        "    else:\n",
        "      print(\"The airplane is out of fuel and cannot fly\")\n",
        "\n",
        "  def land(self):\n",
        "    print(\"The plane has landed and stops it's engines\")\n"
      ],
      "metadata": {
        "id": "D3jcsG-Mf8JX"
      },
      "execution_count": 15,
      "outputs": []
    },
    {
      "cell_type": "code",
      "source": [
        "airplane = Airplane()\n",
        "airplane.fly()\n",
        "airplane.land()"
      ],
      "metadata": {
        "colab": {
          "base_uri": "https://localhost:8080/"
        },
        "id": "8v-OICCNgvLy",
        "outputId": "04264d80-eb54-4786-a7a9-8e9484b56e91"
      },
      "execution_count": 16,
      "outputs": [
        {
          "output_type": "stream",
          "name": "stdout",
          "text": [
            "The airplane starts it's engines and flies away\n",
            "The plane has landed and stops it's engines\n"
          ]
        }
      ]
    },
    {
      "cell_type": "markdown",
      "source": [
        "Now we can use goose typing.\n",
        "\n",
        "In Python, goose typing is a concept where the type of an object is determined not only by its behavior but also by its class inheritance or other type-specific attributes. Unlike duck typing, goose typing includes type checking to ensure that an object is of the expected type before it is used. This can help catch errors early on in the development process and make code more reliable and maintainable"
      ],
      "metadata": {
        "id": "rZ-RRcc9aLW-"
      }
    },
    {
      "cell_type": "code",
      "source": [
        "print( f\"Is the duck a Duck? {isinstance(duck,Duck)}. Is it also a FlyingObject? {isinstance(duck,IFlyingObject)}\")"
      ],
      "metadata": {
        "colab": {
          "base_uri": "https://localhost:8080/"
        },
        "id": "C5gEeom-aHy9",
        "outputId": "b7a1ffa2-4d32-4379-e1e9-6c77fcb4e536"
      },
      "execution_count": 13,
      "outputs": [
        {
          "output_type": "stream",
          "name": "stdout",
          "text": [
            "Is the duck a Duck? True. Is it also a FlyingObject? True\n"
          ]
        }
      ]
    },
    {
      "cell_type": "code",
      "source": [
        "print( f\"Is the duck a Duck? {isinstance(airplane,Duck)}. Is it also a FlyingObject? {isinstance(duck,IFlyingObject)}\")"
      ],
      "metadata": {
        "colab": {
          "base_uri": "https://localhost:8080/"
        },
        "id": "6y0-nnilb_dV",
        "outputId": "805ae554-2b81-4937-e045-8923a7e83f58"
      },
      "execution_count": 17,
      "outputs": [
        {
          "output_type": "stream",
          "name": "stdout",
          "text": [
            "Is the duck a Duck? False. Is it also a FlyingObject? True\n"
          ]
        }
      ]
    },
    {
      "cell_type": "markdown",
      "source": [
        "## Overloading"
      ],
      "metadata": {
        "id": "gfae8w1ecH28"
      }
    },
    {
      "cell_type": "markdown",
      "source": [
        "Method overloading can be useful in situations where you need to perform similar operations on different types of input data, but want to keep the method name consistent across all types. By defining multiple versions of the method with different parameter lists, you can provide a uniform interface to clients of the class, while still being able to handle different input types in a flexible way.\n",
        "\n",
        "For example, if you have a class that performs calculations on numbers, you might define multiple versions of the `calculate()` method that can handle different types of numbers, such as integers, floats, and complex numbers. This allows clients of the class to use the same method name regardless of the input type, while still getting the correct result."
      ],
      "metadata": {
        "id": "SDvi1HcVdvAm"
      }
    },
    {
      "cell_type": "markdown",
      "source": [
        "**Python does not support true method overloading, fear not! You can still simulate it using various workarounds...if you're willing to sacrifice a bit of sanity in the process.** \n",
        "\n",
        "But if you're tired of living in the wild west of programming languages, it might be time to try a real language like C#.\n",
        "\n",
        "* C# supports true method overloading, which can make your code more modular and easier to read.\n",
        "* C# is a statically-typed language, which means that it catches errors at compile-time rather than run-time, reducing the likelihood of bugs and making debugging easier.\n",
        "* C# has built-in support for object-oriented programming concepts like encapsulation, inheritance, and polymorphism, which can make your code more robust and maintainable.\n",
        "\n",
        "Just remember, as the saying goes: \"With great power comes great responsibility... to write good code!\n",
        "<img src=\"https://i.ibb.co/n0VB1PM/meme.webp\" alt=\"meme\" border=\"0\">\n"
      ],
      "metadata": {
        "id": "tuJFw3zmePtt"
      }
    },
    {
      "cell_type": "code",
      "source": [
        "from functools import singledispatch,singledispatchmethod\n",
        "\n",
        "class Calculator:\n",
        "  @singledispatchmethod\n",
        "  def add(self,a):\n",
        "      raise NotImplementedError('Unsupported type')\n",
        "\n",
        "  @add.register(int)\n",
        "  def _(self,a, b):\n",
        "      return (a + b)\n",
        "\n",
        "  @add.register(str)\n",
        "  def _(self,a, b):\n",
        "      return f\"{a}  {b}\"\n",
        "  \n",
        "  @add.register(list)\n",
        "  def _(self,a):\n",
        "    return sum(a)\n",
        "    \n",
        "\n",
        "calc = Calculator()"
      ],
      "metadata": {
        "id": "wsYR_iMFeLnC"
      },
      "execution_count": 45,
      "outputs": []
    },
    {
      "cell_type": "code",
      "source": [
        "print(calc.add(2, 3))       \n",
        "print(calc.add([1,2,3,4]))\n",
        "print(calc.add(\"hello\",\"world\"))"
      ],
      "metadata": {
        "colab": {
          "base_uri": "https://localhost:8080/"
        },
        "id": "T7LTRyv4xRtR",
        "outputId": "5f088ad1-e9b8-47e3-92e0-8c84cb4b08b6"
      },
      "execution_count": 43,
      "outputs": [
        {
          "output_type": "stream",
          "name": "stdout",
          "text": [
            "5\n",
            "10\n",
            "hello  world\n"
          ]
        }
      ]
    }
  ]
}